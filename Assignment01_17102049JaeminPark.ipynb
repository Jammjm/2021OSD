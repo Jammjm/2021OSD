{
 "cells": [
  {
   "cell_type": "markdown",
   "metadata": {},
   "source": [
    "# 1. Apply a multiple linear regression on the given dataset\n",
    "\n",
    "## Variable list\n",
    "- M: percentage of males aged 14-24\n",
    "- So: whether it is in a Southern state. 1 for Yes, 0 for No.\n",
    "- Ed: mean years of schooling\n",
    "- Po1: police expenditure in 1960\n",
    "- Po2: police expenditure in 1959\n",
    "- LF: labour force participation rate\n",
    "- M.F: number of males per 1000 females\n",
    "- Pop: state population\n",
    "- NW: number of non-whites resident per 1000 people\n",
    "- U1: unemployment rate of urban males aged 14-24\n",
    "- U2: unemployment rate of urban males aged 35-39\n",
    "- GDP: gross domestic product per head\n",
    "- Ineq: income inequality\n",
    "- Prob: probability of imprisonment\n",
    "- Time: average time served in prisons\n",
    "- y: crime rate in an unspecified unit region (target)"
   ]
  },
  {
   "cell_type": "code",
   "execution_count": 1,
   "metadata": {},
   "outputs": [],
   "source": [
    "# packages and data import\n",
    "# DO NOT CHANGE THIS PART\n",
    "import pandas as pd\n",
    "import numpy as np\n",
    "from sklearn.linear_model import LinearRegression\n",
    "import matplotlib.pyplot as plt\n",
    "from scipy.stats import t, f, chi2, skew, kurtosis\n",
    "%matplotlib inline\n",
    "data=pd.read_csv('https://drive.google.com/uc?export=download&id=1ssBNxmds4zmmJbAHzJUB0_UyyfyMtoHT')"
   ]
  },
  {
   "cell_type": "markdown",
   "metadata": {},
   "source": [
    "(1) Find the top 5 input variables that show the high linear correlation with the target based on the correlation coefficient. "
   ]
  },
  {
   "cell_type": "code",
   "execution_count": 2,
   "metadata": {},
   "outputs": [
    {
     "data": {
      "text/plain": [
       "y       1.000000\n",
       "Po1     0.687604\n",
       "Po2     0.666714\n",
       "GDP     0.441320\n",
       "Prob    0.427422\n",
       "Pop     0.337474\n",
       "Name: y, dtype: float64"
      ]
     },
     "execution_count": 2,
     "metadata": {},
     "output_type": "execute_result"
    }
   ],
   "source": [
    "cor_targ = abs(data.corr())['y']\n",
    "cor_targ.sort_values(ascending = False).head(6)"
   ]
  },
  {
   "cell_type": "markdown",
   "metadata": {},
   "source": [
    "(2) Draw pairwise scatter plot – one scatter plot illustrates the relationship between the input variable selected in Question (1) and output target "
   ]
  },
  {
   "cell_type": "code",
   "execution_count": 3,
   "metadata": {},
   "outputs": [
    {
     "data": {
      "image/png": "[encoded data removed]",
      "text/plain": [
       "<Figure size 432x288 with 1 Axes>"
      ]
     },
     "metadata": {
      "needs_background": "light"
     },
     "output_type": "display_data"
    }
   ],
   "source": [
    "plt.scatter(data['Po1'],data['y'],label = 'Po1')\n",
    "plt.scatter(data['Po2'],data['y'],label = 'Po2')\n",
    "plt.scatter(data['GDP'],data['y'],label = 'GDP')\n",
    "plt.scatter(data['Prob'],data['y'],label = 'Prob')\n",
    "plt.scatter(data['Pop'],data['y'],label = 'Pop')\n",
    "plt.legend()\n",
    "plt.show()"
   ]
  },
  {
   "cell_type": "markdown",
   "metadata": {},
   "source": [
    "(3) Train a linear regression model (M1) using the selected variables in Question (1) and fill the following table. "
   ]
  },
  {
   "cell_type": "code",
   "execution_count": 4,
   "metadata": {
    "scrolled": true
   },
   "outputs": [
    {
     "name": "stdout",
     "output_type": "stream",
     "text": [
      "Coefficient:  [ 9.22875679e-02  2.62474439e-03 -1.49015707e-03 -1.53743853e-04\n",
      " -4.13347529e-01 -1.38774123e-04]\n",
      "======= Intercept =======\n",
      "se_b 0.034897558136749135\n",
      "t:  [2.64452795]\n",
      "P-value:  [0.01154115]\n",
      "======= Po1 =======\n",
      "se_b 0.0012125406888231069\n",
      "t:  [2.164665]\n",
      "P-value:  [0.03628787]\n",
      "======= Po2 =======\n",
      "se_b 0.001293779903866379\n",
      "t:  [-1.1517856]\n",
      "P-value:  [0.2560814]\n",
      "======= GDP =======\n",
      "se_b 7.527988637364756e-05\n",
      "t:  [-2.04229655]\n",
      "P-value:  [0.04758909]\n",
      "======= Prob =======\n",
      "se_b 0.21832966635414022\n",
      "t:  [-1.89322659]\n",
      "P-value:  [0.06540028]\n",
      "======= Pop =======\n",
      "se_b 0.0001300765294277144\n",
      "t:  [-1.0668652]\n",
      "P-value:  [0.29227476]\n"
     ]
    }
   ],
   "source": [
    "M1 = LinearRegression()\n",
    "M1.fit(data[['Po1','Po2','GDP','Prob', 'Pop']],data['y'])\n",
    "\n",
    "X = data[['Po1','Po2','GDP','Prob', 'Pop']].values\n",
    "n,p = X.shape\n",
    "X = np.c_[np.ones(n).T,X]\n",
    "\n",
    "XtX = np.matmul(X.T,X)\n",
    "inv_XtX = np.linalg.inv(XtX)\n",
    "beta = np.matmul(np.matmul(inv_XtX,X.T),data[['y']].values)\n",
    "print(\"Coefficient: \", beta.flatten())\n",
    "\n",
    "y_true = data['y'].values\n",
    "y_pred = np.matmul(X,beta).flatten()\n",
    "\n",
    "#another method for predicting y_pred --> Same result!\n",
    "#y_pred = M1.predict(data[['Po1','Po2','GDP','Prob', 'Pop']]) \n",
    "\n",
    "SSE = np.sum((y_true - y_pred)**2)\n",
    "MSE = SSE/(n-p-1)\n",
    "\n",
    "list_name = ['Intercept','Po1','Po2','GDP','Prob', 'Pop']\n",
    "for i in range(len(list_name)):\n",
    "    se_b = np.sqrt(MSE * inv_XtX[i][i])\n",
    "    t_value = beta[i] / se_b\n",
    "    p_value = (1 - t.cdf(np.abs(t_value),n-p-1))*2\n",
    "    print(\"=======\",list_name[i],\"=======\")\n",
    "    print(\"se_b\", se_b)\n",
    "    print(\"t: \",t_value)\n",
    "    print(\"P-value: \",p_value)\n",
    "\n",
    "\n"
   ]
  },
  {
   "cell_type": "markdown",
   "metadata": {},
   "source": [
    "(4) Calculate VIF for the variables of M1. Given that multicollinearity is severe when there is a variable with a VIF value of greater than 10, find the most reasonable way to get a better model based on the calculated VIF values.  "
   ]
  },
  {
   "cell_type": "code",
   "execution_count": 5,
   "metadata": {},
   "outputs": [
    {
     "name": "stdout",
     "output_type": "stream",
     "text": [
      "0 :  80.34832161088916\n",
      "1 :  80.97531630356094\n",
      "2 :  3.2647323097391228\n",
      "3 :  1.5247804645690082\n",
      "4 :  1.5174252113126927\n"
     ]
    }
   ],
   "source": [
    "reg = LinearRegression()\n",
    "vif = list()\n",
    "reg.fit(data[['Po2','GDP','Prob', 'Pop']],data['Po1'])\n",
    "r2_po1 = reg.score(data[['Po2','GDP','Prob', 'Pop']],data['Po1'])\n",
    "vif.append(1/(1-r2_po1))\n",
    "\n",
    "reg.fit(data[['Po1','GDP','Prob', 'Pop']],data['Po2'])\n",
    "r2_po2 = reg.score(data[['Po1','GDP','Prob', 'Pop']],data['Po2'])\n",
    "vif.append(1/(1-r2_po2))\n",
    "\n",
    "reg.fit(data[['Po1','Po2','Prob', 'Pop']],data['GDP'])\n",
    "r2_gdp = reg.score(data[['Po1','Po2','Prob', 'Pop']],data['GDP'])\n",
    "vif.append(1/(1-r2_gdp))\n",
    "\n",
    "reg.fit(data[['Po1','Po2','GDP','Pop']],data['Prob'])\n",
    "r2_prob = reg.score(data[['Po1','Po2','GDP','Pop']],data['Prob'])\n",
    "vif.append(1/(1-r2_prob))\n",
    "\n",
    "reg.fit(data[['Po1','Po2','GDP','Prob']],data['Pop'])\n",
    "r2_pop = reg.score(data[['Po1','Po2','GDP','Prob']],data['Pop'])\n",
    "vif.append(1/(1-r2_pop))\n",
    "\n",
    "for i,j in enumerate(vif):\n",
    "    print(i,\": \", j)\n",
    "\n"
   ]
  },
  {
   "cell_type": "markdown",
   "metadata": {},
   "source": [
    "(5) Based on the way you provide in Question (1), train a new regression model (M2) and fill the following table. "
   ]
  },
  {
   "cell_type": "code",
   "execution_count": 6,
   "metadata": {},
   "outputs": [
    {
     "name": "stdout",
     "output_type": "stream",
     "text": [
      "Coefficient:  [ 9.42623184e-02  1.24986512e-03 -1.53902641e-04 -4.18101167e-01\n",
      " -9.52767103e-05]\n",
      "======= Intercept =======\n",
      "se_b 0.036384168043554016\n",
      "t:  [2.59075096]\n",
      "P-value:  [0.01311175]\n",
      "======= Po2 =======\n",
      "se_b 0.00027913319255744773\n",
      "t:  [4.47766571]\n",
      "P-value:  [5.68916401e-05]\n",
      "======= GDP =======\n",
      "se_b 7.851354734040577e-05\n",
      "t:  [-1.96020491]\n",
      "P-value:  [0.05662803]\n",
      "======= Prob =======\n",
      "se_b 0.22769664554201263\n",
      "t:  [-1.83622014]\n",
      "P-value:  [0.07341032]\n",
      "======= Pop =======\n",
      "se_b 0.00013403552012048587\n",
      "t:  [-0.7108318]\n",
      "P-value:  [0.48111749]\n"
     ]
    }
   ],
   "source": [
    "M2 = LinearRegression()\n",
    "M2.fit(data[['Po2','GDP','Prob', 'Pop']],data['y'])\n",
    "\n",
    "X = data[['Po2','GDP','Prob', 'Pop']].values\n",
    "n,p = X.shape\n",
    "X = np.c_[np.ones(n).T,X]\n",
    "\n",
    "XtX = np.matmul(X.T,X)\n",
    "inv_XtX = np.linalg.inv(XtX)\n",
    "beta = np.matmul(np.matmul(inv_XtX,X.T),data[['y']].values)\n",
    "print(\"Coefficient: \", beta.flatten())\n",
    "\n",
    "y_true = data['y'].values\n",
    "y_pred = np.matmul(X,beta).flatten()\n",
    "\n",
    "#another method for predicting y_pred --> Same result!\n",
    "#y_pred = M2.predict(data[['Po2','GDP','Prob', 'Pop']])\n",
    "\n",
    "SSE = np.sum((y_true - y_pred)**2)\n",
    "MSE = SSE/(n-p-1)\n",
    "\n",
    "list_name = ['Intercept','Po2','GDP','Prob', 'Pop']\n",
    "for i in range(len(list_name)):    \n",
    "\n",
    "    se_b = np.sqrt(MSE * inv_XtX[i][i])\n",
    "    t_value = beta[i] / se_b\n",
    "    p_value = (1 - t.cdf(np.abs(t_value),n-p-1))*2\n",
    "    print(\"=======\",list_name[i],\"=======\")\n",
    "    print(\"se_b\", se_b)\n",
    "    print(\"t: \",t_value)\n",
    "    print(\"P-value: \",p_value)\n",
    "\n",
    "\n",
    "    \n"
   ]
  },
  {
   "cell_type": "markdown",
   "metadata": {},
   "source": [
    "(7) Apply the F-test on M1 and M2 and explain the results. In addition, fill the following tables"
   ]
  },
  {
   "cell_type": "code",
   "execution_count": 9,
   "metadata": {},
   "outputs": [
    {
     "name": "stdout",
     "output_type": "stream",
     "text": [
      "SST,SSE1,SSR1, SSE2, SSR2:  0.06880927659574469 0.030480713807041322 0.038328562788702926 0.03396426877649365 0.034845007819250186\n",
      "47\n",
      "MSE1, MSE2, MSR1, MSR2:  0.0007434320440741786 0.0008086730661069917 0.007665712557740585 0.008711251954812546\n",
      "F1, F2:  10.311248511337658 10.772279082756048\n",
      "P_v1, P_v2:  1.8875302661980342e-06 4.232770240086836e-06\n"
     ]
    }
   ],
   "source": [
    "y_pred_M1 = M1.predict(data[['Po1','Po2','GDP','Prob', 'Pop']])\n",
    "y_pred_M2 = M2.predict(data[['Po2','GDP','Prob', 'Pop']])\n",
    "y_true = data['y'].values\n",
    "\n",
    "SST = sum((y_true-np.mean(y_true))**2)\n",
    "SSE_M1 = sum((y_true-y_pred_M1)**2)\n",
    "SSR_M1 = sum((y_pred_M1-np.mean(y_true))**2)\n",
    "\n",
    "SSE_M2 = sum((y_true-y_pred_M2)**2)\n",
    "SSR_M2 = sum((y_pred_M2-np.mean(y_true))**2)\n",
    "\n",
    "#print(SST, SSE_M2 + SSR_M2)\n",
    "print(\"SST,SSE1,SSR1, SSE2, SSR2: \",SST, SSE_M1, SSR_M1,SSE_M2,SSR_M2)\n",
    "\n",
    "n_M1, p_M1 = data[['Po1','Po2','GDP','Prob', 'Pop']].shape\n",
    "p_M2 = p_M1 - 1 #Since input of M2 4 and M1 is 5, degree of freedom is 1 smaller than p_M1\n",
    "n_M2 = n_M1 # length is same for M! and M2\n",
    "print(n_M1)\n",
    "# Also we can do like this, but above code is more efficient.\n",
    "# n, p_M2 = data[['Po1','Po2','GDP','Prob', 'Pop']].shape\n",
    "\n",
    "MSE_M1 = SSE_M1/(n_M1 - p_M1 -1)\n",
    "MSE_M2 = SSE_M2/(n_M2 - p_M2 -1)\n",
    "\n",
    "MSR_M1 = SSR_M1/p_M1\n",
    "MSR_M2 = SSR_M2/p_M2\n",
    "\n",
    "print(\"MSE1, MSE2, MSR1, MSR2: \", MSE_M1, MSE_M2, MSR_M1, MSR_M2)\n",
    "\n",
    "f_M1 = MSR_M1/MSE_M1\n",
    "f_M2 = MSR_M2/MSE_M2\n",
    "\n",
    "print(\"F1, F2: \",f_M1, f_M2)\n",
    "\n",
    "pvalue_M1 = 1-f.cdf(f_M1,p_M1,n_M1-p_M1-1)\n",
    "pvalue_M2 = 1-f.cdf(f_M2,p_M2,n_M2-p_M2-1)\n",
    "\n",
    "print(\"P_v1, P_v2: \", pvalue_M1, pvalue_M2)\n"
   ]
  },
  {
   "cell_type": "markdown",
   "metadata": {},
   "source": [
    "(8) Calculate R^2 and adjusted R^2 for M1 and M2. Then, compare two models. "
   ]
  },
  {
   "cell_type": "code",
   "execution_count": 10,
   "metadata": {},
   "outputs": [
    {
     "name": "stdout",
     "output_type": "stream",
     "text": [
      "R2 Score:  0.5570260971334449 0.5063998568676412\n",
      "adj R2 Score:  0.5030048894667918 0.45939031942646413\n"
     ]
    }
   ],
   "source": [
    "r2_M1 = M1.score(data[['Po1','Po2','GDP','Prob', 'Pop']],data['y'])\n",
    "r2_M2 = M2.score(data[['Po2','GDP','Prob', 'Pop']],data['y'])\n",
    "\n",
    "print(\"R2 Score: \", r2_M1, r2_M2)\n",
    "\n",
    "adj_r2_M1 = 1-((n_M1-1)/(n_M1-p_M1-1))*(1-r2_M1)\n",
    "adj_r2_M2 = 1-((n_M2-1)/(n_M2-p_M2-1))*(1-r2_M2)\n",
    "\n",
    "print(\"adj R2 Score: \", adj_r2_M1, adj_r2_M2)\n",
    "\n"
   ]
  },
  {
   "cell_type": "markdown",
   "metadata": {},
   "source": [
    "(9) Calculate residuals of M1 and draw scatter plots to show relationship between one of the input variables and residuals. "
   ]
  },
  {
   "cell_type": "code",
   "execution_count": 11,
   "metadata": {
    "scrolled": true
   },
   "outputs": [
    {
     "data": {
      "image/png": "[encoded data removed]",
      "text/plain": [
       "<Figure size 432x288 with 1 Axes>"
      ]
     },
     "metadata": {
      "needs_background": "light"
     },
     "output_type": "display_data"
    }
   ],
   "source": [
    "err_M1 = y_true - y_pred_M1\n",
    "\n",
    "plt.scatter(data[['Po1']],err_M1, label = 'Po1')\n",
    "#plt.scatter(data[['Po2']],err_M1, label = 'Po2')\n",
    "#plt.scatter(data[['GDP']],err_M1, label = 'GDP')\n",
    "#plt.scatter(data[['Prob']],err_M1, label = 'Prob')\n",
    "#plt.scatter(data[['Pop']],err_M1, label = 'Pop')\n",
    "plt.legend()\n",
    "plt.ylabel(\"error\")\n",
    "plt.show()"
   ]
  },
  {
   "cell_type": "markdown",
   "metadata": {},
   "source": [
    "(10) Do residuals of M1 and M2 follow the normal distribution based on the Jarque–Bera test? (significance level is 0.05). "
   ]
  },
  {
   "cell_type": "code",
   "execution_count": 12,
   "metadata": {},
   "outputs": [
    {
     "name": "stdout",
     "output_type": "stream",
     "text": [
      "0.7079936135927738 0.38065144980165666\n"
     ]
    }
   ],
   "source": [
    "err_M2 = y_true - y_pred_M2\n",
    "\n",
    "\n",
    "skew_M1 = skew(err_M1)\n",
    "skew_M2 = skew(err_M2)\n",
    "\n",
    "kut_M1 = kurtosis(err_M1, fisher = False)\n",
    "kut_M2 = kurtosis(err_M2, fisher = False)\n",
    "\n",
    "JBtest_M1 = (n_M1-p_M1)/6*((skew_M1**2)+((kut_M1-3)**2)/4)\n",
    "JBtest_M2 = (n_M2-p_M2)/6*((skew_M2**2)+((kut_M2-3)**2)/4)\n",
    "\n",
    "pvalue_JB_M1 = 1-chi2.cdf(JBtest_M1,df=2)\n",
    "pvalue_JB_M2 = 1-chi2.cdf(JBtest_M2,df=2)\n",
    "print(pvalue_JB_M1, pvalue_JB_M2)"
   ]
  },
  {
   "cell_type": "markdown",
   "metadata": {},
   "source": [
    "(11) Do residuals of M1 and M2 satisfy homoskedasticty based on the Breusch–Pagan test? (significance level is 0.05)"
   ]
  },
  {
   "cell_type": "code",
   "execution_count": 13,
   "metadata": {},
   "outputs": [
    {
     "name": "stdout",
     "output_type": "stream",
     "text": [
      "0.00028991282719703637\n",
      "0.00014676678216707373\n"
     ]
    }
   ],
   "source": [
    "M1.fit(data[['Po1','Po2','GDP','Prob','Pop']],err_M1**2)\n",
    "M2.fit(data[['Po2','GDP','Prob','Pop']],err_M2**2)\n",
    "\n",
    "e2_pred_M1 = M1.predict(data[['Po1','Po2','GDP','Prob','Pop']])\n",
    "e2_pred_M2 = M2.predict(data[['Po2','GDP','Prob','Pop']])\n",
    "err_e2_M1 = err_M1**2-e2_pred_M1 # difference of real error^2 and predict err\n",
    "err_e2_M2 = err_M2**2-e2_pred_M2\n",
    "\n",
    "SSE_M1 = sum(err_e2_M1**2)\n",
    "SSE_M2 = sum(err_e2_M2**2)\n",
    "\n",
    "SSR_M1 = sum((e2_pred_M1 - np.mean(err_M1**2))**2)\n",
    "SSR_M2 = sum((e2_pred_M2 - np.mean(err_M2**2))**2)\n",
    "\n",
    "MSE_M1 = SSE_M1/(n_M1-p_M1-1)\n",
    "MSE_M2 = SSE_M2/(n_M2-p_M2-1)\n",
    "\n",
    "MSR_M1 = SSR_M1/p_M1\n",
    "MSR_M2 = SSR_M2/p_M2\n",
    "\n",
    "Ftest_M1 = MSR_M1/MSE_M1\n",
    "Ftest_M2 = MSR_M2/MSE_M2\n",
    "\n",
    "1-f.cdf(Ftest_M1,p_M1,n_M1-p_M1-1)\n",
    "1-f.cdf(Ftest_M2,p_M2,n_M2-p_M2-1)\n",
    "\n",
    "r2_M1 = M1.score(data[['Po1','Po2','GDP','Prob','Pop']],err_M1**2)\n",
    "r2_M2 = M2.score(data[['Po2','GDP','Prob','Pop']],err_M2**2)\n",
    "\n",
    "LM_M1 = n_M1 * r2_M1\n",
    "LM_M2 = n_M2 * r2_M2\n",
    "\n",
    "print(1-chi2.cdf(LM_M1,p_M1))\n",
    "print(1-chi2.cdf(LM_M2,p_M2))\n"
   ]
  },
  {
   "cell_type": "markdown",
   "metadata": {},
   "source": [
    "# 2. Logistic regression\n",
    "\n",
    "Using the MAGIC Gamma Telescope data set, build a classifier through logistic regression.\n",
    "\n",
    "The included variabes in this dataset are as follows. \n",
    "1. fLength: continuous # major axis of ellipse [mm] \n",
    "2. fWidth: continuous # minor axis of ellipse [mm] \n",
    "3. fSize: continuous # 10-log of sum of content of all pixels [in #phot] \n",
    "4. fConc: continuous # ratio of sum of two highest pixels over fSize [ratio] \n",
    "5. fConc1: continuous # ratio of highest pixel over fSize [ratio] \n",
    "6. fAsym: continuous # distance from highest pixel to center, projected onto major axis [mm] \n",
    "7. fM3Long: continuous # 3rd root of third moment along major axis [mm] \n",
    "8. fM3Trans: continuous # 3rd root of third moment along minor axis [mm] \n",
    "9. fAlpha: continuous # angle of major axis with vector to origin [deg] \n",
    "10. fDist: continuous # distance from origin to center of ellipse [mm] \n",
    "11. class: g,h # gamma (signal), hadron (background)\n",
    "    - g is treated as class 1 while h is treated as class 0"
   ]
  },
  {
   "cell_type": "code",
   "execution_count": 14,
   "metadata": {},
   "outputs": [],
   "source": [
    "import pandas as pd\n",
    "import numpy as np\n",
    "from sklearn.linear_model import LogisticRegression\n",
    "import matplotlib.pyplot as plt\n",
    "from sklearn.model_selection import train_test_split\n",
    "\n",
    "%matplotlib inline\n",
    "\n",
    "# data load\n",
    "magic=pd.read_csv('https://drive.google.com/uc?export=download&id=1AoCh22pmLHhdQtYdYUAJJqOCwF9obgVO', sep='\\t')\n",
    "\n",
    "X=magic[magic.columns[:-1]].values\n",
    "y=magic['class'].values\n",
    "\n",
    "# data partition\n",
    "trnX,valX,trnY,valY=train_test_split(X,y,test_size=0.2,random_state=10, stratify=y)\n",
    "# train_test_split: https://scikit-learn.org/stable/modules/generated/sklearn.model_selection.train_test_split.html"
   ]
  },
  {
   "cell_type": "markdown",
   "metadata": {},
   "source": [
    "(1) Using MAGIC Gamma Telescope data set, calculate accuracy with varying cutoff for the final decision. cutoff ∈{0.1,0.15,0.2,0.25,…,0.95}. Draw a line plot (x=cutoff, y=accuracy). For this problem, the model is trained using trnX and accuracy is calculated using valX."
   ]
  },
  {
   "cell_type": "code",
   "execution_count": 15,
   "metadata": {},
   "outputs": [
    {
     "data": {
      "text/plain": [
       "Text(0, 0.5, 'accuracy')"
      ]
     },
     "execution_count": 15,
     "metadata": {},
     "output_type": "execute_result"
    },
    {
     "data": {
      "image/png": "[encoded data removed]",
      "text/plain": [
       "<Figure size 432x288 with 1 Axes>"
      ]
     },
     "metadata": {
      "needs_background": "light"
     },
     "output_type": "display_data"
    }
   ],
   "source": [
    "#print(magic)\n",
    "#print(X)\n",
    "#print(y)\n",
    "\n",
    "clf = LogisticRegression(max_iter=300)\n",
    "clf.fit(trnX,trnY)\n",
    "\n",
    "y_pred = clf.predict(valX)\n",
    "y_prob = clf.predict_proba(valX)[:,0]\n",
    "\n",
    "cutoff = np.arange(0.1,1,0.05)\n",
    "accuracy = []\n",
    "\n",
    "for i in cutoff:\n",
    "    pred_cutoff=['g' if j > i else 'h' for j in y_prob]\n",
    "    correct = 0\n",
    "    for k,value in enumerate(pred_cutoff):\n",
    "        if(value == valY[k]):\n",
    "            correct += 1\n",
    "    accuracy.append(correct/len(pred_cutoff))\n",
    "    \n",
    "plt.plot(cutoff,accuracy)\n",
    "plt.xlabel(\"cutoff\")\n",
    "plt.ylabel(\"accuracy\")"
   ]
  },
  {
   "cell_type": "code",
   "execution_count": null,
   "metadata": {},
   "outputs": [],
   "source": []
  }
 ],
 "metadata": {
  "kernelspec": {
   "display_name": "Python 3",
   "language": "python",
   "name": "python3"
  },
  "language_info": {
   "codemirror_mode": {
    "name": "ipython",
    "version": 3
   },
   "file_extension": ".py",
   "mimetype": "text/x-python",
   "name": "python",
   "nbconvert_exporter": "python",
   "pygments_lexer": "ipython3",
   "version": "3.8.5"
  }
 },
 "nbformat": 4,
 "nbformat_minor": 2
}
